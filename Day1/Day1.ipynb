{
 "cells": [
  {
   "cell_type": "code",
   "execution_count": 9,
   "metadata": {},
   "outputs": [],
   "source": [
    "import fileinput\n",
    "\n",
    "input_list = [line.strip() for line in fileinput.input(\"input.txt\")]"
   ]
  },
  {
   "cell_type": "code",
   "execution_count": 11,
   "metadata": {},
   "outputs": [
    {
     "name": "stdout",
     "output_type": "stream",
     "text": [
      "439\n"
     ]
    }
   ],
   "source": [
    "#Part 1\n",
    "total = 0\n",
    "\n",
    "for entry in input_list:\n",
    "    num = int(entry[1:])\n",
    "    if entry[0] == '+':\n",
    "        total += num\n",
    "    elif entry[0] == '-':\n",
    "        total -= num\n",
    "        \n",
    "print(total)"
   ]
  },
  {
   "cell_type": "code",
   "execution_count": 18,
   "metadata": {},
   "outputs": [
    {
     "name": "stdout",
     "output_type": "stream",
     "text": [
      "124645\n"
     ]
    }
   ],
   "source": [
    "def part_2():\n",
    "    total = 0\n",
    "\n",
    "    visited_set = set([0])\n",
    "    \n",
    "    while(True):\n",
    "        for entry in input_list:\n",
    "            num = int(entry[1:])\n",
    "            if entry[0] == '+':\n",
    "                total += num\n",
    "            elif entry[0] == '-':\n",
    "                total -= num\n",
    "\n",
    "            if total in visited_set:\n",
    "                print(total)\n",
    "                return\n",
    "\n",
    "            visited_set.add(total)\n",
    "\n",
    "part_2()"
   ]
  }
 ],
 "metadata": {
  "kernelspec": {
   "display_name": "Python 3",
   "language": "python",
   "name": "python3"
  },
  "language_info": {
   "codemirror_mode": {
    "name": "ipython",
    "version": 3
   },
   "file_extension": ".py",
   "mimetype": "text/x-python",
   "name": "python",
   "nbconvert_exporter": "python",
   "pygments_lexer": "ipython3",
   "version": "3.6.1"
  }
 },
 "nbformat": 4,
 "nbformat_minor": 2
}

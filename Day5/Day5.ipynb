{
 "cells": [
  {
   "cell_type": "code",
   "execution_count": 11,
   "metadata": {},
   "outputs": [
    {
     "name": "stdout",
     "output_type": "stream",
     "text": [
      "M\n"
     ]
    }
   ],
   "source": [
    "import fileinput\n",
    "\n",
    "data = list(fileinput.input(\"input.txt\"))[0]\n",
    "\n",
    "print(data[0])"
   ]
  },
  {
   "cell_type": "code",
   "execution_count": 15,
   "metadata": {},
   "outputs": [
    {
     "name": "stdout",
     "output_type": "stream",
     "text": [
      "True\n",
      "False\n",
      "False\n"
     ]
    }
   ],
   "source": [
    "def are_opposite_polarity(A, B):\n",
    "    return A != B and A.upper() == B.upper()\n",
    "\n",
    "print(are_opposite_polarity('a', 'A'))\n",
    "print(are_opposite_polarity('a', 'a'))\n",
    "print(are_opposite_polarity('a', 'B'))"
   ]
  },
  {
   "cell_type": "code",
   "execution_count": 24,
   "metadata": {},
   "outputs": [],
   "source": [
    "def get_polymer_len(polymer):   \n",
    "    # Initialize the stack with the first character.\n",
    "    string_stack = []\n",
    "\n",
    "    for char in data:\n",
    "        if string_stack:\n",
    "            last_char = string_stack[-1]\n",
    "            if are_opposite_polarity(char, last_char):\n",
    "                string_stack.pop()\n",
    "            else:\n",
    "                string_stack.append(char)\n",
    "\n",
    "        else:\n",
    "            string_stack.append(char)\n",
    "\n",
    "    return len(string_stack)"
   ]
  },
  {
   "cell_type": "code",
   "execution_count": 25,
   "metadata": {},
   "outputs": [
    {
     "name": "stdout",
     "output_type": "stream",
     "text": [
      "9288\n"
     ]
    }
   ],
   "source": [
    "# Part 1\n",
    "print(get_polymer_len(data))"
   ]
  },
  {
   "cell_type": "code",
   "execution_count": 28,
   "metadata": {},
   "outputs": [
    {
     "name": "stdout",
     "output_type": "stream",
     "text": [
      "9288\n"
     ]
    }
   ],
   "source": [
    "# Part 2\n",
    "from string import ascii_lowercase\n",
    "\n",
    "print(min([get_polymer_len(data.replace(char, '').replace(char.upper(), '')) for char in ascii_lowercase]))\n",
    "\n",
    "for char in ascii_lowercase:\n",
    "    modified_data = data.replace(char, '').replace(char.upper(), '')\n",
    "    \n",
    "    val = get_polymer_len()"
   ]
  }
 ],
 "metadata": {
  "kernelspec": {
   "display_name": "Python 3",
   "language": "python",
   "name": "python3"
  },
  "language_info": {
   "codemirror_mode": {
    "name": "ipython",
    "version": 3
   },
   "file_extension": ".py",
   "mimetype": "text/x-python",
   "name": "python",
   "nbconvert_exporter": "python",
   "pygments_lexer": "ipython3",
   "version": "3.6.1"
  }
 },
 "nbformat": 4,
 "nbformat_minor": 2
}

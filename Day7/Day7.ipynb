{
 "cells": [
  {
   "cell_type": "code",
   "execution_count": 43,
   "metadata": {},
   "outputs": [
    {
     "name": "stdout",
     "output_type": "stream",
     "text": [
      "Step R must be finished before step Y can begin.\n"
     ]
    }
   ],
   "source": [
    "import fileinput\n",
    "\n",
    "data = [line.strip() for line in fileinput.input('input.txt')]\n",
    "print(data[0])"
   ]
  },
  {
   "cell_type": "code",
   "execution_count": 44,
   "metadata": {
    "collapsed": true
   },
   "outputs": [],
   "source": [
    "# Create the graph\n",
    "from collections import defaultdict\n",
    "\n",
    "graph = defaultdict(list)\n",
    "\n",
    "for line in data:\n",
    "    split = line.split()\n",
    "    \n",
    "    graph[split[7]].append(split[1])\n",
    "    \n"
   ]
  },
  {
   "cell_type": "code",
   "execution_count": 87,
   "metadata": {},
   "outputs": [
    {
     "name": "stdout",
     "output_type": "stream",
     "text": [
      "Y : {'R', 'L', 'F', 'P'}\n",
      "T : {'N'}\n",
      "L : {'N', 'C'}\n",
      "B : {'N', 'W', 'F'}\n",
      "D : {'Z', 'H', 'T', 'I', 'L', 'G', 'U', 'Q', 'V', 'K', 'X'}\n",
      "E : {'Z', 'I', 'O', 'W', 'G', 'U', 'D', 'Y', 'Q', 'N', 'P'}\n",
      "Z : {'M', 'J', 'A', 'N', 'P'}\n",
      "V : {'Z', 'H', 'A'}\n",
      "I : {'Z', 'W', 'L', 'S', 'G', 'Q', 'V', 'X'}\n",
      "J : {'H', 'O', 'W', 'F', 'C', 'P', 'B'}\n",
      "X : {'Z', 'J', 'S', 'Q', 'Y'}\n",
      "U : {'Z', 'T', 'O', 'A', 'V', 'K', 'N', 'P'}\n",
      "Q : {'Z', 'J', 'S', 'U', 'Y'}\n",
      "S : {'W', 'P', 'B', 'K'}\n",
      "G : {'M', 'H', 'J', 'O', 'L', 'V', 'N'}\n",
      "O : {'N', 'F', 'C'}\n",
      "M : {'F'}\n",
      "K : {'N', 'R', 'F'}\n",
      "P : {'N', 'O', 'H', 'K'}\n",
      "A : {'N', 'O', 'F', 'C'}\n",
      "W : {'M'}\n",
      "H : {'O'}\n"
     ]
    }
   ],
   "source": [
    "set_graph = defaultdict(set)\n",
    "for node in graph:\n",
    "    set_graph[node] = set(graph[node])\n",
    "    \n",
    "for node in set_graph:\n",
    "    print(node + \" : \" + str(set_graph[node]))"
   ]
  },
  {
   "cell_type": "code",
   "execution_count": 61,
   "metadata": {
    "scrolled": true
   },
   "outputs": [],
   "source": [
    "from string import ascii_uppercase\n",
    "\n",
    "def purge_completed(table, just_removed):\n",
    "    for entry in table:\n",
    "        table[entry].discard(just_removed)\n",
    "\n",
    "# Efficient way: Topological sort. Instead, just go through level by level and see what is free.\n",
    "result = []\n",
    "eligible_steps = [char for char in ascii_uppercase if char not in set_graph]\n",
    "\n",
    "while(eligible_steps):\n",
    "    # Take the head of the list and add it to the result.\n",
    "    processing_char = eligible_steps[0]\n",
    "    result.append(processing_char)\n",
    "    eligible_steps = eligible_steps[1:]\n",
    "        \n",
    "    # Purge this character.\n",
    "    purge_completed(set_graph, processing_char)\n",
    "\n",
    "    # Collect everything that is now empty.\n",
    "    for entry in set_graph:\n",
    "        if not set_graph[entry]:\n",
    "            eligible_steps.append(entry)\n",
    "            set_graph[entry] = set(\"---\")\n",
    "    \n",
    "    # Sort the results so the head is the first one we'd pick.\n",
    "    # It'd be better to use a tree here.\n",
    "    eligible_steps = sorted(eligible_steps)"
   ]
  },
  {
   "cell_type": "code",
   "execution_count": 62,
   "metadata": {},
   "outputs": [
    {
     "name": "stdout",
     "output_type": "stream",
     "text": [
      "CFMNLOAHRKPTWBJSYZVGUQXIDE\n"
     ]
    }
   ],
   "source": [
    "print(''.join(result))"
   ]
  },
  {
   "cell_type": "code",
   "execution_count": 63,
   "metadata": {},
   "outputs": [
    {
     "name": "stdout",
     "output_type": "stream",
     "text": [
      "CFMNLOAHRKPTWBJSYZVGUQXIDE\n"
     ]
    }
   ],
   "source": [
    "import networkx as nx\n",
    "\n",
    "def solve(lines):\n",
    "    G = nx.DiGraph()\n",
    "    for line in lines:\n",
    "        parts = line.split(\" \")\n",
    "        G.add_edge(parts[1], parts[7])\n",
    "    print(''.join(nx.lexicographical_topological_sort(G)))\n",
    "    \n",
    "solve(data)"
   ]
  },
  {
   "cell_type": "code",
   "execution_count": 89,
   "metadata": {},
   "outputs": [
    {
     "name": "stdout",
     "output_type": "stream",
     "text": [
      "Starting work on C\n",
      "Starting work on F\n",
      "Starting work on N\n",
      "Starting work on R\n",
      "Finishing C\n",
      "Finishing F\n",
      "Adding M to the eligible queue\n",
      "Finishing N\n",
      "Adding T to the eligible queue\n",
      "Adding L to the eligible queue\n",
      "Adding O to the eligible queue\n",
      "Adding K to the eligible queue\n",
      "Finishing R\n",
      "Starting work on K\n",
      "Starting work on L\n",
      "Starting work on M\n",
      "Starting work on O\n",
      "Starting work on T\n",
      "Finishing K\n",
      "Finishing L\n",
      "Finishing M\n",
      "Adding W to the eligible queue\n",
      "Finishing O\n",
      "Adding P to the eligible queue\n",
      "Adding A to the eligible queue\n",
      "Adding H to the eligible queue\n",
      "Finishing T\n",
      "Starting work on A\n",
      "Starting work on H\n",
      "Starting work on P\n",
      "Starting work on W\n",
      "Finishing H\n",
      "Finishing A\n",
      "Finishing P\n",
      "Adding Y to the eligible queue\n",
      "Finishing W\n",
      "Adding B to the eligible queue\n",
      "Starting work on B\n",
      "Starting work on Y\n",
      "Finishing B\n",
      "Adding J to the eligible queue\n",
      "Adding S to the eligible queue\n",
      "Finishing Y\n",
      "Starting work on J\n",
      "Starting work on S\n",
      "Finishing J\n",
      "Adding Z to the eligible queue\n",
      "Finishing S\n",
      "Starting work on Z\n",
      "Finishing Z\n",
      "Adding V to the eligible queue\n",
      "Starting work on V\n",
      "Finishing V\n",
      "Adding U to the eligible queue\n",
      "Adding G to the eligible queue\n",
      "Starting work on G\n",
      "Starting work on U\n",
      "Finishing G\n",
      "Finishing U\n",
      "Adding Q to the eligible queue\n",
      "Starting work on Q\n",
      "Finishing Q\n",
      "Adding X to the eligible queue\n",
      "Starting work on X\n",
      "Finishing X\n",
      "Adding I to the eligible queue\n",
      "Starting work on I\n",
      "Finishing I\n",
      "Adding D to the eligible queue\n",
      "Starting work on D\n",
      "Finishing D\n",
      "Adding E to the eligible queue\n",
      "Starting work on E\n",
      "Finishing E\n"
     ]
    }
   ],
   "source": [
    "# Part 2: Simulation attempt.\n",
    "\n",
    "def get_finishing_time(letter, current_time):\n",
    "    return current_time + 60 + ord(entry) - ord('A')\n",
    "\n",
    "time = 0\n",
    "result = []\n",
    "work_to_complete = [char for char in ascii_uppercase if char not in set_graph]\n",
    "finishing_times = defaultdict(int)\n",
    "MAX_WORKERS = 5\n",
    "\n",
    "active_workers = 0\n",
    "\n",
    "# Set the initial finishing time.\n",
    "for entry in work_to_complete:\n",
    "    finishing_times[entry] = get_finishing_time(entry, time)\n",
    "\n",
    "while(work_to_complete or active_workers != 0):\n",
    "    # Check for anything that completed in this tick.\n",
    "    # Free up workers as necessary.\n",
    "    remove_list = []\n",
    "    for event in finishing_times:\n",
    "        if finishing_times[event] == time:\n",
    "            # Assuming there are no nasty corner cases where two events finish at the same time and I need a special ordering.\n",
    "            result.append(event)\n",
    "            print(\"Finishing \" + str(event))\n",
    "            remove_list.append(entry)\n",
    "            active_workers -= 1\n",
    "            \n",
    "            # This has officially completed, so purge it from the graph.\n",
    "            purge_completed(set_graph, event)\n",
    "            \n",
    "            # Collect everything that is now empty.\n",
    "            for entry in set_graph:\n",
    "                if not set_graph[entry]:\n",
    "                    print(\"Adding \" + str(entry) + \" to the eligible queue\")\n",
    "                    work_to_complete.append(entry)\n",
    "                    set_graph[entry] = set(\"---\")\n",
    "    # Remove everything that was just completed from the dictionary. Not really necessary anyway.\n",
    "    for entry in remove_list:\n",
    "        finishing_times[entry] = None\n",
    "        \n",
    "    # Sort the results so the head is the first one we'd pick.\n",
    "    # It'd be better to use a tree here.\n",
    "    work_to_complete = sorted(work_to_complete)\n",
    "\n",
    "    while active_workers < MAX_WORKERS and work_to_complete:\n",
    "        # Transfer all eligible events over to the worker queue.\n",
    "        head = work_to_complete[0]\n",
    "        work_to_complete = work_to_complete[1:]\n",
    "        active_workers += 1\n",
    "        finishing_times[head] = get_finishing_time(head, time)\n",
    "        print(\"Starting work on \" + str(head))\n",
    "        \n",
    "    time += 1"
   ]
  },
  {
   "cell_type": "code",
   "execution_count": 90,
   "metadata": {},
   "outputs": [
    {
     "name": "stdout",
     "output_type": "stream",
     "text": [
      "CFNRKLMOTHAPWBYJSZVGUQXIDE\n"
     ]
    }
   ],
   "source": [
    "print(''.join(result))"
   ]
  }
 ],
 "metadata": {
  "kernelspec": {
   "display_name": "Python 3",
   "language": "python",
   "name": "python3"
  },
  "language_info": {
   "codemirror_mode": {
    "name": "ipython",
    "version": 3
   },
   "file_extension": ".py",
   "mimetype": "text/x-python",
   "name": "python",
   "nbconvert_exporter": "python",
   "pygments_lexer": "ipython3",
   "version": "3.6.1"
  }
 },
 "nbformat": 4,
 "nbformat_minor": 2
}

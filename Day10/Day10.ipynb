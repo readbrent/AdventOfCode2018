{
 "cells": [
  {
   "cell_type": "code",
   "execution_count": 6,
   "metadata": {},
   "outputs": [
    {
     "ename": "RuntimeError",
     "evalue": "input() already active",
     "output_type": "error",
     "traceback": [
      "\u001b[1;31m---------------------------------------------------------------------------\u001b[0m",
      "\u001b[1;31mRuntimeError\u001b[0m                              Traceback (most recent call last)",
      "\u001b[1;32m<ipython-input-6-7a0664664f11>\u001b[0m in \u001b[0;36m<module>\u001b[1;34m()\u001b[0m\n\u001b[0;32m      1\u001b[0m \u001b[1;32mimport\u001b[0m \u001b[0mfileinput\u001b[0m\u001b[1;33m\u001b[0m\u001b[0m\n\u001b[0;32m      2\u001b[0m \u001b[1;33m\u001b[0m\u001b[0m\n\u001b[1;32m----> 3\u001b[1;33m \u001b[0mdata\u001b[0m \u001b[1;33m=\u001b[0m \u001b[1;33m[\u001b[0m\u001b[0mline\u001b[0m\u001b[1;33m.\u001b[0m\u001b[0mstrip\u001b[0m\u001b[1;33m(\u001b[0m\u001b[1;33m)\u001b[0m \u001b[1;32mfor\u001b[0m \u001b[0mline\u001b[0m \u001b[1;32min\u001b[0m \u001b[0mfileinput\u001b[0m\u001b[1;33m.\u001b[0m\u001b[0minput\u001b[0m\u001b[1;33m(\u001b[0m\u001b[1;34m\"input.txt\"\u001b[0m\u001b[1;33m)\u001b[0m\u001b[1;33m]\u001b[0m\u001b[1;33m\u001b[0m\u001b[0m\n\u001b[0m\u001b[0;32m      4\u001b[0m \u001b[1;33m\u001b[0m\u001b[0m\n\u001b[0;32m      5\u001b[0m \u001b[0mpositions\u001b[0m \u001b[1;33m=\u001b[0m \u001b[1;33m[\u001b[0m\u001b[1;33m]\u001b[0m\u001b[1;33m\u001b[0m\u001b[0m\n",
      "\u001b[1;32mc:\\users\\readb\\appdata\\local\\programs\\python\\python36\\lib\\fileinput.py\u001b[0m in \u001b[0;36minput\u001b[1;34m(files, inplace, backup, bufsize, mode, openhook)\u001b[0m\n\u001b[0;32m     91\u001b[0m     \u001b[1;32mglobal\u001b[0m \u001b[0m_state\u001b[0m\u001b[1;33m\u001b[0m\u001b[0m\n\u001b[0;32m     92\u001b[0m     \u001b[1;32mif\u001b[0m \u001b[0m_state\u001b[0m \u001b[1;32mand\u001b[0m \u001b[0m_state\u001b[0m\u001b[1;33m.\u001b[0m\u001b[0m_file\u001b[0m\u001b[1;33m:\u001b[0m\u001b[1;33m\u001b[0m\u001b[0m\n\u001b[1;32m---> 93\u001b[1;33m         \u001b[1;32mraise\u001b[0m \u001b[0mRuntimeError\u001b[0m\u001b[1;33m(\u001b[0m\u001b[1;34m\"input() already active\"\u001b[0m\u001b[1;33m)\u001b[0m\u001b[1;33m\u001b[0m\u001b[0m\n\u001b[0m\u001b[0;32m     94\u001b[0m     \u001b[0m_state\u001b[0m \u001b[1;33m=\u001b[0m \u001b[0mFileInput\u001b[0m\u001b[1;33m(\u001b[0m\u001b[0mfiles\u001b[0m\u001b[1;33m,\u001b[0m \u001b[0minplace\u001b[0m\u001b[1;33m,\u001b[0m \u001b[0mbackup\u001b[0m\u001b[1;33m,\u001b[0m \u001b[0mbufsize\u001b[0m\u001b[1;33m,\u001b[0m \u001b[0mmode\u001b[0m\u001b[1;33m,\u001b[0m \u001b[0mopenhook\u001b[0m\u001b[1;33m)\u001b[0m\u001b[1;33m\u001b[0m\u001b[0m\n\u001b[0;32m     95\u001b[0m     \u001b[1;32mreturn\u001b[0m \u001b[0m_state\u001b[0m\u001b[1;33m\u001b[0m\u001b[0m\n",
      "\u001b[1;31mRuntimeError\u001b[0m: input() already active"
     ]
    }
   ],
   "source": [
    "import fileinput\n",
    "\n",
    "data = [line.strip() for line in fileinput.input(\"input.txt\")]\n",
    "\n",
    "positions = []\n",
    "velocities = []\n",
    "\n",
    "for line in data:\n",
    "    split_line = ''.join([char for char in line if char != ' '])\n",
    "    position, velocity, _ = split_line.split(\">\")\n",
    "    \n",
    "    position = position[position.find(\"<\") + 1:]\n",
    "    velocity = velocity[velocity.find(\"<\") + 1:]\n",
    "    \n",
    "    positions.append([int(s) for s in position.split(',')])\n",
    "    velocities.append([int(s) for s in velocity.split(',')])\n"
   ]
  },
  {
   "cell_type": "code",
   "execution_count": 70,
   "metadata": {},
   "outputs": [],
   "source": [
    "def Get_Position(point, v, time):\n",
    "    # Gets position at time t\n",
    "    return [point[0] + v[0] * time, point[1] + v[1] * time]"
   ]
  },
  {
   "cell_type": "code",
   "execution_count": 71,
   "metadata": {},
   "outputs": [],
   "source": [
    "def Get_Bounding_Box(points):\n",
    "    x_min = min(point[0] for point in points)\n",
    "    x_max = max(point[0] for point in points)\n",
    "    y_min = min(point[1] for point in points)\n",
    "    y_max = max(point[1] for point in points)\n",
    "    \n",
    "    return (x_min, y_min, x_max, y_max)"
   ]
  },
  {
   "cell_type": "code",
   "execution_count": 75,
   "metadata": {
    "collapsed": true
   },
   "outputs": [],
   "source": [
    "def Get_Area(points):\n",
    "    x_min, y_min, x_max, y_max = Get_Bounding_Box(points)\n",
    "    return (x_max - x_min + 1) * (y_max - y_min + 1)"
   ]
  },
  {
   "cell_type": "code",
   "execution_count": 103,
   "metadata": {
    "collapsed": true
   },
   "outputs": [],
   "source": [
    "def Find_Convergence_Time():\n",
    "    smallest_area = Get_Area(positions)\n",
    "    \n",
    "    t = 1\n",
    "    while(True):\n",
    "        new_positions = []\n",
    "        for index in range(len(positions)):\n",
    "            new_positions.append(Get_Position(positions[index], velocities[index], t))\n",
    "        new_area = Get_Area(new_positions)\n",
    "        \n",
    "        if new_area > smallest_area:\n",
    "            return t\n",
    "        \n",
    "        t += 1\n",
    "        \n",
    "        smallest_area = new_area"
   ]
  },
  {
   "cell_type": "code",
   "execution_count": 104,
   "metadata": {},
   "outputs": [
    {
     "name": "stdout",
     "output_type": "stream",
     "text": [
      "10906\n"
     ]
    }
   ],
   "source": [
    "lowest_time = Find_Convergence_Time()\n",
    "print(lowest_time)"
   ]
  },
  {
   "cell_type": "code",
   "execution_count": 3,
   "metadata": {},
   "outputs": [
    {
     "ename": "NameError",
     "evalue": "name 'positions' is not defined",
     "output_type": "error",
     "traceback": [
      "\u001b[1;31m---------------------------------------------------------------------------\u001b[0m",
      "\u001b[1;31mNameError\u001b[0m                                 Traceback (most recent call last)",
      "\u001b[1;32m<ipython-input-3-14ffb94053bc>\u001b[0m in \u001b[0;36m<module>\u001b[1;34m()\u001b[0m\n\u001b[0;32m      1\u001b[0m \u001b[0mlowest_time\u001b[0m \u001b[1;33m=\u001b[0m \u001b[1;36m10905\u001b[0m\u001b[1;33m\u001b[0m\u001b[0m\n\u001b[0;32m      2\u001b[0m \u001b[0mresult\u001b[0m \u001b[1;33m=\u001b[0m \u001b[1;33m[\u001b[0m\u001b[1;33m]\u001b[0m\u001b[1;33m\u001b[0m\u001b[0m\n\u001b[1;32m----> 3\u001b[1;33m \u001b[1;32mfor\u001b[0m \u001b[0mi\u001b[0m \u001b[1;32min\u001b[0m \u001b[0mrange\u001b[0m\u001b[1;33m(\u001b[0m\u001b[0mlen\u001b[0m\u001b[1;33m(\u001b[0m\u001b[0mpositions\u001b[0m\u001b[1;33m)\u001b[0m\u001b[1;33m)\u001b[0m\u001b[1;33m:\u001b[0m\u001b[1;33m\u001b[0m\u001b[0m\n\u001b[0m\u001b[0;32m      4\u001b[0m     \u001b[0mresult\u001b[0m\u001b[1;33m.\u001b[0m\u001b[0mappend\u001b[0m\u001b[1;33m(\u001b[0m\u001b[0mGet_Position\u001b[0m\u001b[1;33m(\u001b[0m\u001b[0mpositions\u001b[0m\u001b[1;33m[\u001b[0m\u001b[0mi\u001b[0m\u001b[1;33m]\u001b[0m\u001b[1;33m,\u001b[0m \u001b[0mvelocities\u001b[0m\u001b[1;33m[\u001b[0m\u001b[0mi\u001b[0m\u001b[1;33m]\u001b[0m\u001b[1;33m,\u001b[0m \u001b[0mlowest_time\u001b[0m\u001b[1;33m)\u001b[0m\u001b[1;33m)\u001b[0m\u001b[1;33m\u001b[0m\u001b[0m\n",
      "\u001b[1;31mNameError\u001b[0m: name 'positions' is not defined"
     ]
    }
   ],
   "source": [
    "lowest_time = 10905\n",
    "result = []\n",
    "for i in range(len(positions)):\n",
    "    result.append(Get_Position(positions[i], velocities[i], lowest_time))"
   ]
  },
  {
   "cell_type": "code",
   "execution_count": 116,
   "metadata": {
    "collapsed": true
   },
   "outputs": [],
   "source": []
  },
  {
   "cell_type": "code",
   "execution_count": null,
   "metadata": {
    "collapsed": true
   },
   "outputs": [],
   "source": []
  },
  {
   "cell_type": "code",
   "execution_count": 144,
   "metadata": {},
   "outputs": [
    {
     "name": "stdout",
     "output_type": "stream",
     "text": [
      "                 * *  *  * *                                *       \n",
      "    *             *      *   * *           *                   *    \n",
      "      **             *   *  *                    ** * *    * *      \n",
      "             *    * ***   *      *    *          *                  \n",
      "   *      *        *       **  * *  *     *   *  *   *     *   **  *\n",
      " *       **                 * *   *  * * **   *          * *      * \n",
      "            *    *     *  *   *      *    * ****   *        *    *  \n",
      "****    *     * * **    *  *     *** *  * *  **  ** *  **         * \n",
      " *     * ***   *    *   *     **  **** *   *   ***   *  * ***  **  *\n",
      "  *    *  ****       **  * * * * *   *    *   *      * * ***  **    \n",
      "         *   *  *  **        *  *  *  **   * * ******  * * ***      \n",
      "    * **     *      ** ***    ***     ** *****     **   * *****     \n",
      "       *                * ** * ******     ****  *      *            \n",
      "          * ** **     *   **   * *         **      ** *  *          \n",
      "         *  *  **  *        **   *        * * *  *           *    * \n",
      "  *       *        *   *  *  ** * *  *     *    *           **    * \n",
      "          *    *  *           * *     *   *    **       *        * *\n",
      "        **     * *    *     * * *   *         *    *                \n",
      "     *            *                            *            *     * \n",
      "                     *                          *           **      \n"
     ]
    }
   ],
   "source": [
    "x_min, y_min, x_max, y_max = Get_Bounding_Box(result)\n",
    "\n",
    "rows = []\n",
    "\n",
    "for y in range(y_min, y_max + 1):\n",
    "    row_here = []\n",
    "    for x in range(x_min, x_max + 1):\n",
    "        if ([x, y]) in result:\n",
    "            row_here.append(\"*\")\n",
    "        else:\n",
    "            row_here.append(' ')\n",
    "    rows.append(''.join(row_here))\n",
    "\n",
    "print('\\n'.join(rows))"
   ]
  },
  {
   "cell_type": "code",
   "execution_count": null,
   "metadata": {},
   "outputs": [],
   "source": []
  },
  {
   "cell_type": "code",
   "execution_count": null,
   "metadata": {},
   "outputs": [],
   "source": []
  }
 ],
 "metadata": {
  "kernelspec": {
   "display_name": "Python 3",
   "language": "python",
   "name": "python3"
  },
  "language_info": {
   "codemirror_mode": {
    "name": "ipython",
    "version": 3
   },
   "file_extension": ".py",
   "mimetype": "text/x-python",
   "name": "python",
   "nbconvert_exporter": "python",
   "pygments_lexer": "ipython3",
   "version": "3.6.1"
  }
 },
 "nbformat": 4,
 "nbformat_minor": 2
}

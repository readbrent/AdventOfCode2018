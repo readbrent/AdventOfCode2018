{
 "cells": [
  {
   "cell_type": "code",
   "execution_count": 6,
   "metadata": {},
   "outputs": [],
   "source": [
    "import fileinput\n",
    "\n",
    "list_input = [line.strip() for line in fileinput.input(\"input.txt\")]"
   ]
  },
  {
   "cell_type": "code",
   "execution_count": 17,
   "metadata": {},
   "outputs": [
    {
     "data": {
      "text/plain": [
       "(True, True)"
      ]
     },
     "execution_count": 17,
     "metadata": {},
     "output_type": "execute_result"
    }
   ],
   "source": [
    "import collections\n",
    "\n",
    "def get_hits(word):\n",
    "    seen_letters = collections.Counter()\n",
    "    \n",
    "    for letter in word:\n",
    "        seen_letters[letter] += 1\n",
    "        \n",
    "    seen_2 = any(seen_letters[letter] == 2 for letter in seen_letters)\n",
    "    seen_3 = any(seen_letters[letter] == 3 for letter in seen_letters)\n",
    "    \n",
    "    return (seen_2, seen_3)\n",
    "        \n",
    "get_hits(\"foo\")\n",
    "get_hits(\"fffooobb\")"
   ]
  },
  {
   "cell_type": "code",
   "execution_count": 23,
   "metadata": {},
   "outputs": [
    {
     "name": "stdout",
     "output_type": "stream",
     "text": [
      "8296\n"
     ]
    }
   ],
   "source": [
    "# TODO: This could probably be cleaner!\n",
    "filtered_list = [get_hits(entry) for entry in list_input]\n",
    "\n",
    "print(sum(tup[0] for tup in filtered_list) * sum(tup[1] for tup in filtered_list))"
   ]
  },
  {
   "cell_type": "code",
   "execution_count": 32,
   "metadata": {},
   "outputs": [
    {
     "name": "stdout",
     "output_type": "stream",
     "text": [
      "pazvmqbftrbeosiecxlghkwud\n"
     ]
    }
   ],
   "source": [
    "# Part 2: The Brute Forcing\n",
    "\n",
    "def num_differences(first, second):\n",
    "    return sum(first[i] != second[i] for i in range(len(first)))\n",
    "\n",
    "best_so_far = len(list_input[0])\n",
    "\n",
    "# Brute Force: Do an n^2 loop.\n",
    "seen_list = []\n",
    "best_pair = None\n",
    "for entry in list_input:\n",
    "    for seen in seen_list:\n",
    "        \n",
    "        pairwise_diff = num_differences(entry, seen)\n",
    "        \n",
    "        if pairwise_diff < best_so_far:\n",
    "            best_so_far = pairwise_diff\n",
    "            best_pair = (entry, seen)\n",
    "        \n",
    "    seen_list.append(entry)\n",
    "    \n",
    "# Filter out the different letters from the best pair.\n",
    "result = []\n",
    "for i in range(len(best_pair[0])):\n",
    "    if best_pair[0][i] == best_pair[1][i]:\n",
    "        result += best_pair[0][i]\n",
    "print(''.join(result))"
   ]
  }
 ],
 "metadata": {
  "kernelspec": {
   "display_name": "Python 3",
   "language": "python",
   "name": "python3"
  },
  "language_info": {
   "codemirror_mode": {
    "name": "ipython",
    "version": 3
   },
   "file_extension": ".py",
   "mimetype": "text/x-python",
   "name": "python",
   "nbconvert_exporter": "python",
   "pygments_lexer": "ipython3",
   "version": "3.6.1"
  }
 },
 "nbformat": 4,
 "nbformat_minor": 2
}

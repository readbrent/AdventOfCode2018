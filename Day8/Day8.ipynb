{
 "cells": [
  {
   "cell_type": "code",
   "execution_count": 13,
   "metadata": {},
   "outputs": [],
   "source": [
    "import fileinput\n",
    "\n",
    "data = [line.strip() for line in fileinput.input(\"input.txt\")]\n",
    "data = data[0].split()\n",
    "data = [int(entry) for entry in data]"
   ]
  },
  {
   "cell_type": "code",
   "execution_count": 18,
   "metadata": {},
   "outputs": [],
   "source": [
    "def recur(stream):\n",
    "    # Get the number of children and metadata entries for this node.\n",
    "    children = stream[0]\n",
    "    metadata_entries = stream[1]\n",
    "    \n",
    "    # Remove the top two entries.\n",
    "    stream = stream[2:]\n",
    "    \n",
    "    total = 0\n",
    "    \n",
    "    for i in range(children):\n",
    "        total_from_children, stream = recur(stream)\n",
    "        total += total_from_children\n",
    "    \n",
    "    # Add in the sum of the metadata for this entry.\n",
    "    total += sum(stream[:metadata_entries])\n",
    "    \n",
    "    return total, stream[metadata_entries:]\n",
    "\n",
    "total, remaining = recur(data)"
   ]
  },
  {
   "cell_type": "code",
   "execution_count": 19,
   "metadata": {},
   "outputs": [
    {
     "name": "stdout",
     "output_type": "stream",
     "text": [
      "36627\n"
     ]
    }
   ],
   "source": [
    "print(total)"
   ]
  }
 ],
 "metadata": {
  "kernelspec": {
   "display_name": "Python 3",
   "language": "python",
   "name": "python3"
  },
  "language_info": {
   "codemirror_mode": {
    "name": "ipython",
    "version": 3
   },
   "file_extension": ".py",
   "mimetype": "text/x-python",
   "name": "python",
   "nbconvert_exporter": "python",
   "pygments_lexer": "ipython3",
   "version": "3.6.1"
  }
 },
 "nbformat": 4,
 "nbformat_minor": 2
}

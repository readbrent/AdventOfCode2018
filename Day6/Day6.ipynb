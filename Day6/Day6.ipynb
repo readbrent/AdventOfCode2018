{
 "cells": [
  {
   "cell_type": "code",
   "execution_count": 36,
   "metadata": {},
   "outputs": [],
   "source": [
    "import fileinput\n",
    "\n",
    "data = [line.strip() for line in fileinput.input(\"input.txt\")]\n",
    "\n",
    "point_data = []\n",
    "for line in data:\n",
    "    x, y = line.split(\",\")\n",
    "    x = int(x)\n",
    "    y = int(y.strip())\n",
    "    point_data.append([x, y])"
   ]
  },
  {
   "cell_type": "code",
   "execution_count": 13,
   "metadata": {},
   "outputs": [
    {
     "name": "stdout",
     "output_type": "stream",
     "text": [
      "45\n"
     ]
    }
   ],
   "source": [
    "def construct_bounding_rectangle(all_points):\n",
    "    '''\n",
    "    Theory: A point will expand infinitely iff it is on the bounding rectangle.\n",
    "    '''\n",
    "    min_x = 10000000\n",
    "    min_y = 10000000\n",
    "    max_x = 0\n",
    "    max_y = 0\n",
    "    \n",
    "    for point in all_points:\n",
    "        x, y = point.split(\",\")\n",
    "        x = int(x)\n",
    "        y = int(y.strip())\n",
    "        \n",
    "        min_x = min(min_x, x)\n",
    "        min_y = min(min_y, y)\n",
    "        max_x = max(max_x, x)\n",
    "        max_y = max(max_y, y)\n",
    "    \n",
    "    return min_x, min_y, max_x, max_y\n",
    "min_x, min_y, max_x, max_y = construct_bounding_rectangle(data)"
   ]
  },
  {
   "cell_type": "code",
   "execution_count": 54,
   "metadata": {},
   "outputs": [],
   "source": [
    "from collections import Counter, defaultdict\n",
    "\n",
    "board = defaultdict(str)\n",
    "labeled_data = [(str(i), point_data[i]) for i in range(len(point_data))]"
   ]
  },
  {
   "cell_type": "code",
   "execution_count": 40,
   "metadata": {},
   "outputs": [],
   "source": [
    "# Get the coordinates that are on the bounding rectangle.\n",
    "bounding_set = set()\n",
    "for label, point in labeled_data:\n",
    "    if point[0] == min_x or point[0] == max_x or point[1] == min_x or point[1] == max_y:\n",
    "        bounding_set.add(label)"
   ]
  },
  {
   "cell_type": "code",
   "execution_count": 86,
   "metadata": {},
   "outputs": [
    {
     "name": "stdout",
     "output_type": "stream",
     "text": [
      "Index done expanding: 36\n",
      "There are now left: 50\n",
      "Index done expanding: 27\n",
      "There are now left: 49\n",
      "Index done expanding: 48\n",
      "There are now left: 48\n",
      "Index done expanding: 42\n",
      "There are now left: 47\n",
      "Index done expanding: 6\n",
      "There are now left: 46\n",
      "Index done expanding: 5\n",
      "There are now left: 45\n",
      "Index done expanding: 26\n",
      "There are now left: 44\n",
      "Index done expanding: 44\n",
      "There are now left: 43\n",
      "Index done expanding: 39\n",
      "There are now left: 42\n",
      "Index done expanding: 21\n",
      "There are now left: 41\n",
      "Index done expanding: 29\n",
      "There are now left: 40\n",
      "Index done expanding: 43\n",
      "There are now left: 39\n",
      "Index done expanding: 33\n",
      "There are now left: 38\n",
      "Index done expanding: 49\n",
      "There are now left: 37\n",
      "Index done expanding: 23\n",
      "There are now left: 36\n",
      "Index done expanding: 16\n",
      "There are now left: 35\n",
      "Index done expanding: 17\n",
      "There are now left: 34\n",
      "Index done expanding: 12\n",
      "There are now left: 33\n",
      "Index done expanding: 22\n",
      "There are now left: 32\n",
      "Index done expanding: 38\n",
      "There are now left: 31\n",
      "Index done expanding: 41\n",
      "There are now left: 30\n",
      "Index done expanding: 3\n",
      "There are now left: 29\n",
      "Index done expanding: 15\n",
      "There are now left: 28\n",
      "Index done expanding: 40\n",
      "There are now left: 27\n",
      "Index done expanding: 1\n",
      "There are now left: 26\n",
      "Index done expanding: 47\n",
      "There are now left: 25\n",
      "Index done expanding: 35\n",
      "There are now left: 24\n"
     ]
    },
    {
     "ename": "KeyboardInterrupt",
     "evalue": "",
     "output_type": "error",
     "traceback": [
      "\u001b[1;31m---------------------------------------------------------------------------\u001b[0m",
      "\u001b[1;31mKeyboardInterrupt\u001b[0m                         Traceback (most recent call last)",
      "\u001b[1;32m<ipython-input-86-3f891ebda86b>\u001b[0m in \u001b[0;36m<module>\u001b[1;34m()\u001b[0m\n\u001b[0;32m     46\u001b[0m                         \u001b[0mboard\u001b[0m\u001b[1;33m[\u001b[0m\u001b[0mnew_tuple\u001b[0m\u001b[1;33m]\u001b[0m \u001b[1;33m=\u001b[0m \u001b[1;33m(\u001b[0m\u001b[0mstr\u001b[0m\u001b[1;33m(\u001b[0m\u001b[0mi\u001b[0m\u001b[1;33m)\u001b[0m\u001b[1;33m,\u001b[0m \u001b[0miteration\u001b[0m\u001b[1;33m)\u001b[0m\u001b[1;33m\u001b[0m\u001b[0m\n\u001b[0;32m     47\u001b[0m                         \u001b[0mmove_list\u001b[0m\u001b[1;33m[\u001b[0m\u001b[0mi\u001b[0m\u001b[1;33m]\u001b[0m\u001b[1;33m.\u001b[0m\u001b[0mappend\u001b[0m\u001b[1;33m(\u001b[0m\u001b[0mnew_point\u001b[0m\u001b[1;33m)\u001b[0m\u001b[1;33m\u001b[0m\u001b[0m\n\u001b[1;32m---> 48\u001b[1;33m                         \u001b[0mcounter\u001b[0m\u001b[1;33m[\u001b[0m\u001b[0mstr\u001b[0m\u001b[1;33m(\u001b[0m\u001b[0mi\u001b[0m\u001b[1;33m)\u001b[0m\u001b[1;33m]\u001b[0m \u001b[1;33m+=\u001b[0m \u001b[1;36m1\u001b[0m\u001b[1;33m\u001b[0m\u001b[0m\n\u001b[0m\u001b[0;32m     49\u001b[0m                         \u001b[0mexpanded\u001b[0m \u001b[1;33m=\u001b[0m \u001b[1;32mTrue\u001b[0m\u001b[1;33m\u001b[0m\u001b[0m\n\u001b[0;32m     50\u001b[0m                         \u001b[0mnum_expanded\u001b[0m \u001b[1;33m+=\u001b[0m \u001b[1;36m1\u001b[0m\u001b[1;33m\u001b[0m\u001b[0m\n",
      "\u001b[1;31mKeyboardInterrupt\u001b[0m: "
     ]
    }
   ],
   "source": [
    "# Strategy: Do BFS expansion of each node. Stop once there are 4 nodes left to expand.\n",
    "# Mark each area with a tuple (Label, iteration)\n",
    "# Replace with '.' if the iteration number is the same.\n",
    "\n",
    "move_list = []\n",
    "for elem in labeled_data:\n",
    "    move_list.append([elem[1]])\n",
    "    \n",
    "board = defaultdict()\n",
    "\n",
    "iteration = 0\n",
    "number_left = len(move_list)\n",
    "counter = Counter() # Counts the number of elements per label\n",
    "board = {}\n",
    "\n",
    "# TODO: This is wrong. What's my stopping condition?\n",
    "# Should do an early check to see which nodes are covered!\n",
    "while (number_left != 4):\n",
    "    \n",
    "    # Iterate over each element.\n",
    "    for i in range(len(move_list)):\n",
    "        started = False\n",
    "        num_expanded = 0\n",
    "        \n",
    "        current_tips = move_list[i].copy()\n",
    "        move_list[i] = [] # Burn the list.\n",
    "        for tip in current_tips:\n",
    "            started = True\n",
    "            x = tip[0]\n",
    "            y = tip[1]\n",
    "\n",
    "            value_here = board.get((x,y))\n",
    "            if not value_here or value_here[0] != '.':\n",
    "                # No need to continue if someone replaced us with a '.'\n",
    "                left = [x-1, y]\n",
    "                right = [x+1, y]\n",
    "                up = [x, y+1]\n",
    "                down = [x, y-1]\n",
    "                \n",
    "                for new_point in [left, right, up, down]:\n",
    "                    new_tuple = (new_point[0], new_point[1])\n",
    "                    val = board.get(new_tuple)\n",
    "                    \n",
    "                    if val is None:\n",
    "                        # No one has claimed this yet, so we will tentatively claim it.\n",
    "                        # Optimistically add the new point to the move list.\n",
    "                        board[new_tuple] = (str(i), iteration)\n",
    "                        move_list[i].append(new_point)\n",
    "                        counter[str(i)] += 1\n",
    "                        expanded = True\n",
    "                        num_expanded += 1\n",
    "                    \n",
    "                    elif val[1] == iteration and val[0] != str(i):\n",
    "                        # This value was just placed here, so make it '.'\n",
    "                        board[new_tuple] = ('.', iteration)\n",
    "                        counter[val[0]] -= 1\n",
    "                        \n",
    "            \n",
    "        if started and num_expanded == 0:\n",
    "            # We didn't expand any nodes, so this element is dead.\n",
    "            # We aren't being exact with our iterations, so it may actually die one round later.\n",
    "            print(\"Index done expanding: \" + str(i))\n",
    "            print(\"There are now left: \" + str(number_left))\n",
    "            number_left -= 1\n",
    "                        \n",
    "    # We've processed the whole list, so bump up the iteration.\n",
    "    iteration += 1"
   ]
  },
  {
   "cell_type": "code",
   "execution_count": null,
   "metadata": {},
   "outputs": [],
   "source": []
  },
  {
   "cell_type": "code",
   "execution_count": null,
   "metadata": {},
   "outputs": [],
   "source": []
  }
 ],
 "metadata": {
  "kernelspec": {
   "display_name": "Python 3",
   "language": "python",
   "name": "python3"
  },
  "language_info": {
   "codemirror_mode": {
    "name": "ipython",
    "version": 3
   },
   "file_extension": ".py",
   "mimetype": "text/x-python",
   "name": "python",
   "nbconvert_exporter": "python",
   "pygments_lexer": "ipython3",
   "version": "3.6.1"
  }
 },
 "nbformat": 4,
 "nbformat_minor": 2
}

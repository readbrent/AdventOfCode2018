{
 "cells": [
  {
   "cell_type": "code",
   "execution_count": 15,
   "metadata": {
    "collapsed": true
   },
   "outputs": [],
   "source": [
    "import fileinput\n",
    "\n",
    "data = [line.strip() for line in fileinput.input(\"input.txt\")]\n",
    "\n",
    "point_data = []\n",
    "for line in data:\n",
    "    x, y = line.split(\",\")\n",
    "    x = int(x)\n",
    "    y = int(y.strip())\n",
    "    point_data.append([x, y])"
   ]
  },
  {
   "cell_type": "code",
   "execution_count": 16,
   "metadata": {},
   "outputs": [],
   "source": [
    "def construct_bounding_rectangle(all_points):\n",
    "    '''\n",
    "    Theory: Once a point has expanded to the bounding rectangle, it will continue to expand infinitely.\n",
    "    '''\n",
    "    min_x = 10000000\n",
    "    min_y = 10000000\n",
    "    max_x = 0\n",
    "    max_y = 0\n",
    "    \n",
    "    for point in all_points:\n",
    "        x, y = point.split(\",\")\n",
    "        x = int(x)\n",
    "        y = int(y.strip())\n",
    "        \n",
    "        min_x = min(min_x, x)\n",
    "        min_y = min(min_y, y)\n",
    "        max_x = max(max_x, x)\n",
    "        max_y = max(max_y, y)\n",
    "    \n",
    "    return min_x, min_y, max_x, max_y\n",
    "min_x, min_y, max_x, max_y = construct_bounding_rectangle(data)"
   ]
  },
  {
   "cell_type": "code",
   "execution_count": 17,
   "metadata": {
    "collapsed": true
   },
   "outputs": [],
   "source": [
    "from collections import Counter, defaultdict\n",
    "\n",
    "board = defaultdict(str)\n",
    "labeled_data = [(str(i), point_data[i]) for i in range(len(point_data))]"
   ]
  },
  {
   "cell_type": "code",
   "execution_count": 18,
   "metadata": {
    "collapsed": true
   },
   "outputs": [],
   "source": [
    "# Get the coordinates that are on the bounding rectangle.\n",
    "bounding_set = set()\n",
    "for label, point in labeled_data:\n",
    "    if point[0] == min_x or point[0] == max_x or point[1] == min_x or point[1] == max_y:\n",
    "        bounding_set.add(label)"
   ]
  },
  {
   "cell_type": "code",
   "execution_count": 23,
   "metadata": {},
   "outputs": [],
   "source": [
    "# Strategy: Do BFS expansion of each node. Stop once there are 4 nodes left to expand.\n",
    "# Mark each area with a tuple (Label, iteration)\n",
    "# Replace with '.' if the iteration number is the same.\n",
    "\n",
    "move_list = []\n",
    "for elem in labeled_data:\n",
    "    move_list.append([elem[1]])\n",
    "    \n",
    "board = defaultdict()\n",
    "\n",
    "iteration = 0\n",
    "number_left = len(move_list)\n",
    "counter = Counter() # Counts the number of elements per label\n",
    "touched_bounding_box = set()\n",
    "board = {}\n",
    "\n",
    "while (number_left != 0):\n",
    "    \n",
    "    # Iterate over each element.\n",
    "    for i in range(len(move_list)):\n",
    "        started = False\n",
    "        num_expanded = 0\n",
    "        \n",
    "        current_tips = move_list[i].copy()\n",
    "        move_list[i] = [] # Burn the list.\n",
    "        for tip in current_tips:\n",
    "            started = True\n",
    "            x = tip[0]\n",
    "            y = tip[1]\n",
    "\n",
    "            value_here = board.get((x,y))\n",
    "            if not value_here or value_here[0] != '.':\n",
    "                # No need to continue if someone replaced us with a '.'\n",
    "                left = [x-1, y]\n",
    "                right = [x+1, y]\n",
    "                up = [x, y+1]\n",
    "                down = [x, y-1]\n",
    "                \n",
    "                for new_point in [left, right, up, down]:\n",
    "                    new_tuple = (new_point[0], new_point[1])\n",
    "                    val = board.get(new_tuple)\n",
    "                    \n",
    "                    if val is None:\n",
    "                        # No one has claimed this yet, so we will tentatively claim it.\n",
    "                        # Optimistically add the new point to the move list.\n",
    "                        board[new_tuple] = (str(i), iteration)\n",
    "                        \n",
    "                        # Check if we're expanding beyond the bounding box.\n",
    "                        if new_tuple[0] > min_x and new_tuple[0] < max_x and new_tuple[1] > min_y and new_tuple[1] < max_y:\n",
    "                            move_list[i].append(new_point)\n",
    "                            counter[str(i)] += 1\n",
    "                            expanded = True\n",
    "                            num_expanded += 1\n",
    "                        else:\n",
    "                            # Populate the blacklist of box touchers.\n",
    "                            touched_bounding_box.add(str(i))\n",
    "                    \n",
    "                    elif val[1] == iteration and val[0] != str(i):\n",
    "                        # This value was just placed here, so make it '.'\n",
    "                        board[new_tuple] = ('.', iteration)\n",
    "                        counter[val[0]] -= 1\n",
    "                        \n",
    "            \n",
    "        if started and num_expanded == 0:\n",
    "            # We didn't expand any nodes, so this element is dead.\n",
    "            # We aren't being exact with our iterations, so it may actually die one round later.\n",
    "            number_left -= 1\n",
    "                        \n",
    "    # We've processed the whole list, so bump up the iteration.\n",
    "    iteration += 1"
   ]
  },
  {
   "cell_type": "code",
   "execution_count": 22,
   "metadata": {},
   "outputs": [
    {
     "name": "stdout",
     "output_type": "stream",
     "text": [
      "4284\n"
     ]
    }
   ],
   "source": [
    "candidates = []\n",
    "for elem in counter:\n",
    "    if elem not in touched_bounding_box:\n",
    "        candidates.append(counter[elem])\n",
    "        \n",
    "print(max(candidates))"
   ]
  },
  {
   "cell_type": "code",
   "execution_count": null,
   "metadata": {
    "collapsed": true
   },
   "outputs": [],
   "source": []
  }
 ],
 "metadata": {
  "kernelspec": {
   "display_name": "Python 3",
   "language": "python",
   "name": "python3"
  },
  "language_info": {
   "codemirror_mode": {
    "name": "ipython",
    "version": 3
   },
   "file_extension": ".py",
   "mimetype": "text/x-python",
   "name": "python",
   "nbconvert_exporter": "python",
   "pygments_lexer": "ipython3",
   "version": "3.6.1"
  }
 },
 "nbformat": 4,
 "nbformat_minor": 2
}

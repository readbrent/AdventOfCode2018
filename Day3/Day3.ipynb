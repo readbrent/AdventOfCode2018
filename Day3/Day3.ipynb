{
 "cells": [
  {
   "cell_type": "code",
   "execution_count": 34,
   "metadata": {
    "collapsed": true
   },
   "outputs": [],
   "source": [
    "import fileinput\n",
    "\n",
    "processed_input = [line.strip().split() for line in fileinput.input(\"input.txt\")]"
   ]
  },
  {
   "cell_type": "code",
   "execution_count": 35,
   "metadata": {},
   "outputs": [
    {
     "name": "stdout",
     "output_type": "stream",
     "text": [
      "['#1', '@', '749,666:', '27x15']\n"
     ]
    }
   ],
   "source": [
    "print(processed_input[0])"
   ]
  },
  {
   "cell_type": "code",
   "execution_count": 88,
   "metadata": {
    "collapsed": true
   },
   "outputs": [],
   "source": [
    "def process_claim(claim, start, spread, board, claim_list = None):\n",
    "    '''\n",
    "    start : List (x, y)\n",
    "    spread : Tuple, (x, y)\n",
    "    Board : The board so far\n",
    "    Num_Hits : The number of collisions so far.\n",
    "    '''\n",
    "    num_hits = 0\n",
    "    for x in range(start[0], start[0] + spread[0]):\n",
    "        for y in range(start[1], start[1] + spread[1]):\n",
    "            new_coordinate = (x, y)\n",
    "            # Mark the board with this claim. It may be overwritten if another board occupies the tile.\n",
    "            if board.get(new_coordinate) == None:\n",
    "                board[new_coordinate] = claim\n",
    "                continue\n",
    "            elif board[new_coordinate] != \"X\":\n",
    "                old_claim = board[new_coordinate]\n",
    "                num_hits += 1\n",
    "                board[new_coordinate] = \"X\"\n",
    "                \n",
    "                # Mark the old one as having a collision.\n",
    "                if claim_list:\n",
    "                    claim_list[int(old_claim)] += 1\n",
    "            \n",
    "            # Mark this board as having a collision\n",
    "            if claim_list:\n",
    "                claim_list[int(claim)] += 1\n",
    "    return num_hits"
   ]
  },
  {
   "cell_type": "code",
   "execution_count": 66,
   "metadata": {},
   "outputs": [
    {
     "name": "stdout",
     "output_type": "stream",
     "text": [
      "104241\n"
     ]
    }
   ],
   "source": [
    "import collections\n",
    "board = collections.defaultdict()\n",
    "num_hits = 0\n",
    "\n",
    "for line in processed_input:\n",
    "    claim = line[0][1:]\n",
    "    start = [int(val) for val in line[2][:-1].split(',')]\n",
    "    spread = [int(val) for val in line[3].split('x')]\n",
    "    \n",
    "    val_from_run = process_claim(claim, start, spread, board)\n",
    "    num_hits += val_from_run\n",
    "print(num_hits)"
   ]
  },
  {
   "cell_type": "code",
   "execution_count": 91,
   "metadata": {},
   "outputs": [],
   "source": [
    "import collections\n",
    "board = collections.defaultdict()\n",
    "num_hits = 0\n",
    "\n",
    "claim_list = [0] * (len(processed_input) + 1)\n",
    "\n",
    "for line in processed_input:\n",
    "    claim = line[0][1:]\n",
    "    start = [int(val) for val in line[2][:-1].split(',')]\n",
    "    spread = [int(val) for val in line[3].split('x')]\n",
    "    \n",
    "    val_from_run = process_claim(claim, start, spread, board, claim_list)\n",
    "    num_hits += val_from_run\n"
   ]
  },
  {
   "cell_type": "code",
   "execution_count": 93,
   "metadata": {},
   "outputs": [
    {
     "ename": "TypeError",
     "evalue": "must be str, not int",
     "output_type": "error",
     "traceback": [
      "\u001b[1;31m---------------------------------------------------------------------------\u001b[0m",
      "\u001b[1;31mTypeError\u001b[0m                                 Traceback (most recent call last)",
      "\u001b[1;32m<ipython-input-93-e64d2f76b89c>\u001b[0m in \u001b[0;36m<module>\u001b[1;34m()\u001b[0m\n\u001b[0;32m      1\u001b[0m \u001b[1;32mfor\u001b[0m \u001b[0mi\u001b[0m \u001b[1;32min\u001b[0m \u001b[0mrange\u001b[0m\u001b[1;33m(\u001b[0m\u001b[0mlen\u001b[0m\u001b[1;33m(\u001b[0m\u001b[0mclaim_list\u001b[0m\u001b[1;33m)\u001b[0m\u001b[1;33m)\u001b[0m\u001b[1;33m:\u001b[0m\u001b[1;33m\u001b[0m\u001b[0m\n\u001b[1;32m----> 2\u001b[1;33m     \u001b[0mprint\u001b[0m\u001b[1;33m(\u001b[0m\u001b[1;34m\"i : \"\u001b[0m \u001b[1;33m+\u001b[0m \u001b[0mclaim_list\u001b[0m\u001b[1;33m[\u001b[0m\u001b[0mi\u001b[0m\u001b[1;33m]\u001b[0m\u001b[1;33m)\u001b[0m\u001b[1;33m\u001b[0m\u001b[0m\n\u001b[0m",
      "\u001b[1;31mTypeError\u001b[0m: must be str, not int"
     ]
    }
   ],
   "source": [
    "for i in range(len(claim_list)):\n",
    "    print(\"i : \" + claim_list[i])"
   ]
  }
 ],
 "metadata": {
  "kernelspec": {
   "display_name": "Python 3",
   "language": "python",
   "name": "python3"
  },
  "language_info": {
   "codemirror_mode": {
    "name": "ipython",
    "version": 3
   },
   "file_extension": ".py",
   "mimetype": "text/x-python",
   "name": "python",
   "nbconvert_exporter": "python",
   "pygments_lexer": "ipython3",
   "version": "3.6.1"
  }
 },
 "nbformat": 4,
 "nbformat_minor": 2
}

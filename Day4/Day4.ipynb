{
 "cells": [
  {
   "cell_type": "code",
   "execution_count": 5,
   "metadata": {},
   "outputs": [
    {
     "name": "stdout",
     "output_type": "stream",
     "text": [
      "['[1518-09-16 23:57', ' Guard #1889 begins shift']\n"
     ]
    }
   ],
   "source": [
    "import fileinput\n",
    "\n",
    "filtered_input = [line.strip().split(']') for line in fileinput.input(\"input.txt\")]\n",
    "print(filtered_input[0])"
   ]
  },
  {
   "cell_type": "code",
   "execution_count": 19,
   "metadata": {},
   "outputs": [],
   "source": [
    "# Sort the log.\n",
    "tupled_list = [(line[0][1:], line[1]) for line in filtered_input]\n",
    "sorted_list = sorted(tupled_list)"
   ]
  },
  {
   "cell_type": "code",
   "execution_count": 26,
   "metadata": {},
   "outputs": [],
   "source": [
    "from collections import defaultdict\n",
    "total_minutes_per_guard = defaultdict(int) # Guard# : Total Minutes\n",
    "minutes_per_time_per_guard = defaultdict(lambda: defaultdict(int)) # Guard : {Minute : Time spent asleep}\n",
    "\n",
    "minute_asleep = 0\n",
    "current_guard = -1\n",
    "for line in sorted_list:\n",
    "    time = line[0].split()[1]\n",
    "    message = line[1].strip()\n",
    "        \n",
    "    if message[0] == \"G\":\n",
    "        current_guard = int(message.split()[1][1:])\n",
    "        continue\n",
    "    \n",
    "    hour, minute = time.split(\":\")\n",
    "\n",
    "    # Fix any times that are before midnight to be midnight. \n",
    "    if hour != \"00\":\n",
    "        minute = \"00\"\n",
    "        \n",
    "    int_minute = int(minute)\n",
    "    if message[0] == 'f':\n",
    "        minute_asleep = int_minute\n",
    "    \n",
    "    if message[0] == 'w':\n",
    "        time_asleep = int_minute - minute_asleep\n",
    "        \n",
    "        # Add the total time for this guard.\n",
    "        total_minutes_per_guard[current_guard] += time_asleep\n",
    "        \n",
    "        # Update the minutes that this guard was alseep.\n",
    "        for i in range(minute_asleep, int_minute):\n",
    "            minutes_per_time_per_guard[current_guard][i] += 1"
   ]
  },
  {
   "cell_type": "code",
   "execution_count": 36,
   "metadata": {},
   "outputs": [
    {
     "name": "stdout",
     "output_type": "stream",
     "text": [
      "Best guard is 2633\n",
      "Best time is 29\n",
      "Product is 76357\n"
     ]
    }
   ],
   "source": [
    "import operator\n",
    "best_guard = max(total_minutes_per_guard.items(), key=operator.itemgetter(1))[0]\n",
    "print(\"Best guard is \" + str(best_guard))\n",
    "\n",
    "dict_for_best_guard = minutes_per_time_per_guard[best_guard]\n",
    "best_time = max(dict_for_best_guard.items(), key=operator.itemgetter(1))[0]\n",
    "print(\"Best time is \" + str(best_time))\n",
    "\n",
    "print(\"Product is \" + str(best_time * best_guard))"
   ]
  },
  {
   "cell_type": "code",
   "execution_count": null,
   "metadata": {
    "collapsed": true
   },
   "outputs": [],
   "source": [
    "# Part Two!\n",
    "\n",
    "# Of all guards, which guard is most frequently asleep on the same minute?\n",
    "best_val_per_minute = 0\n",
    "id_of_best_guard = 0\n",
    "minute_for_best_val = 0\n",
    "\n",
    "for guard in total_minutes_per_guard:\n",
    "    dict_for_this_guard = minutes_per_time_per_guard[guard]\n",
    "    best_time_for_this_guard = max(dict_for_this_guard.items(), key=operator.itemgetter(1))[1]\n",
    "    \n",
    "    if best_time_for_this_guard > best_val_per_minute:\n",
    "        best_val_per_minute = best_time_for_this_guard\n",
    "        id_of_best_guard = guard\n",
    "        minute_for_best_val\n",
    "        \n",
    "print(\"ID of best guard is \" + str(id_of_best_guard))\n",
    "print(\"\")"
   ]
  }
 ],
 "metadata": {
  "kernelspec": {
   "display_name": "Python 3",
   "language": "python",
   "name": "python3"
  },
  "language_info": {
   "codemirror_mode": {
    "name": "ipython",
    "version": 3
   },
   "file_extension": ".py",
   "mimetype": "text/x-python",
   "name": "python",
   "nbconvert_exporter": "python",
   "pygments_lexer": "ipython3",
   "version": "3.6.1"
  }
 },
 "nbformat": 4,
 "nbformat_minor": 2
}

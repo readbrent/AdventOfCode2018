{
 "cells": [
  {
   "cell_type": "code",
   "execution_count": 2,
   "metadata": {},
   "outputs": [
    {
     "name": "stdout",
     "output_type": "stream",
     "text": [
      "6\n"
     ]
    }
   ],
   "source": [
    "input = 554401\n",
    "input_len = len(str(input))\n",
    "print(input_len)"
   ]
  },
  {
   "cell_type": "code",
   "execution_count": 6,
   "metadata": {
    "collapsed": true
   },
   "outputs": [],
   "source": [
    "def Simulate_Round(scores, i, j):\n",
    "    score = scores[i] + scores[j]\n",
    "    \n",
    "    if score >= 10:\n",
    "        scores.append(1)\n",
    "    scores.append(score % 10)\n",
    "    \n",
    "    # Move the elf, looping if necessary.\n",
    "    i = ((i + scores[i] + 1) % len(scores))\n",
    "    j = ((j + scores[j] + 1)  % len(scores))\n",
    "    \n",
    "    return (i, j)"
   ]
  },
  {
   "cell_type": "code",
   "execution_count": 7,
   "metadata": {},
   "outputs": [],
   "source": [
    "scores = [3, 7]\n",
    "\n",
    "i = 0\n",
    "j = 1\n",
    "\n",
    "for x in range(input + 10):\n",
    "    i, j = Simulate_Round(scores, i, j)"
   ]
  },
  {
   "cell_type": "code",
   "execution_count": 10,
   "metadata": {},
   "outputs": [
    {
     "name": "stdout",
     "output_type": "stream",
     "text": [
      "[3, 6, 1, 0, 2, 8, 1, 1, 4, 3]\n"
     ]
    }
   ],
   "source": [
    "print(scores[input : input+10])"
   ]
  },
  {
   "cell_type": "code",
   "execution_count": null,
   "metadata": {},
   "outputs": [],
   "source": [
    "scores = [3, 7]\n",
    "i = 0\n",
    "j = 1\n",
    "\n",
    "# Split out input into an array\n",
    "target = list(map(int, str(input)))\n",
    "\n",
    "while True:\n",
    "    i, j = Simulate_Round(scores, i, j)\n",
    "    \n",
    "    if scores[-input_len - 1 : -1] == target:\n",
    "        print(len(scores) - input_len - 1)\n",
    "        break\n",
    "    if scores[-input_len:] == target:\n",
    "        print(len(scores) - input_len)\n",
    "        break"
   ]
  }
 ],
 "metadata": {
  "kernelspec": {
   "display_name": "Python 3",
   "language": "python",
   "name": "python3"
  },
  "language_info": {
   "codemirror_mode": {
    "name": "ipython",
    "version": 3
   },
   "file_extension": ".py",
   "mimetype": "text/x-python",
   "name": "python",
   "nbconvert_exporter": "python",
   "pygments_lexer": "ipython3",
   "version": "3.6.1"
  }
 },
 "nbformat": 4,
 "nbformat_minor": 2
}

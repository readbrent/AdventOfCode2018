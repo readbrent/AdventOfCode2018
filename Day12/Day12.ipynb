{
 "cells": [
  {
   "cell_type": "code",
   "execution_count": null,
   "metadata": {
    "collapsed": true
   },
   "outputs": [],
   "source": []
  },
  {
   "cell_type": "code",
   "execution_count": 71,
   "metadata": {},
   "outputs": [],
   "source": [
    "import fileinput\n",
    "\n",
    "data = [line.strip() for line in fileinput.input(\"input.txt\")]\n",
    "\n",
    "state = data[0].split(' ')[2]\n",
    "rules = data[2:]\n",
    "\n",
    "NUM_GEN = 20\n",
    "PAD = 200 # Amount that we pad the head with dummy pots. Let's make it obnoxiously large since this isn't so slow anyway.\n",
    "RULE_SIZE = 5\n",
    "\n",
    "padding = ''.join(['.'] * PAD)\n",
    "state += padding\n",
    "state = padding + state"
   ]
  },
  {
   "cell_type": "code",
   "execution_count": 72,
   "metadata": {},
   "outputs": [],
   "source": [
    "def evaluate_rules(frame, rule_list, current):\n",
    "    for rule in rule_list:\n",
    "        split = rule.split()\n",
    "        match = split[0]\n",
    "        outcome = split[2]\n",
    "        \n",
    "        if match == frame:\n",
    "            return outcome\n",
    "        \n",
    "    return current"
   ]
  },
  {
   "cell_type": "code",
   "execution_count": 73,
   "metadata": {},
   "outputs": [],
   "source": [
    "offset = 2\n",
    "for i in range(NUM_GEN):\n",
    "    builder = '..'\n",
    "    for start_index in range(offset, len(state) - 2):\n",
    "        frame = state[start_index - 2 : start_index + 3]\n",
    "        \n",
    "        new_value = evaluate_rules(frame, rules, state[start_index])\n",
    "        builder += new_value\n",
    "        \n",
    "    builder += '..'\n",
    "    state = builder"
   ]
  },
  {
   "cell_type": "code",
   "execution_count": 74,
   "metadata": {},
   "outputs": [
    {
     "name": "stdout",
     "output_type": "stream",
     "text": [
      "3725\n"
     ]
    }
   ],
   "source": [
    "total = 0\n",
    "for i, char in enumerate(state):\n",
    "    index = i - PAD\n",
    "    if char == '#':\n",
    "        total += index\n",
    "        \n",
    "print(total)"
   ]
  }
 ],
 "metadata": {
  "kernelspec": {
   "display_name": "Python 3",
   "language": "python",
   "name": "python3"
  },
  "language_info": {
   "codemirror_mode": {
    "name": "ipython",
    "version": 3
   },
   "file_extension": ".py",
   "mimetype": "text/x-python",
   "name": "python",
   "nbconvert_exporter": "python",
   "pygments_lexer": "ipython3",
   "version": "3.6.1"
  }
 },
 "nbformat": 4,
 "nbformat_minor": 2
}
